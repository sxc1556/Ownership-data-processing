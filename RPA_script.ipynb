{
  "nbformat": 4,
  "nbformat_minor": 0,
  "metadata": {
    "colab": {
      "provenance": []
    },
    "kernelspec": {
      "name": "python3",
      "display_name": "Python 3"
    },
    "language_info": {
      "name": "python"
    }
  },
  "cells": [
    {
      "cell_type": "code",
      "execution_count": null,
      "metadata": {
        "colab": {
          "base_uri": "https://localhost:8080/"
        },
        "id": "xAZr155gv9f2",
        "outputId": "3cf53220-6d04-45c6-c5b2-3672d0eaea46"
      },
      "outputs": [
        {
          "output_type": "stream",
          "name": "stdout",
          "text": [
            "Index(['address', 'HouseNumber', 'CompassPoint', 'StreetName', 'Artery',\n",
            "       'ZipCode'],\n",
            "      dtype='object')\n",
            "859068\n"
          ]
        }
      ],
      "source": [
        "import pandas as pd\n",
        "\n",
        "x1 = pd.ExcelFile('raw_data_for_phone.xlsx')\n",
        "df = x1.parse('Sheet1')  # Replace 'Sheet1' with the name of your sheet if it's different\n",
        "# ids = df['ID'].tolist()\n",
        "print(df.columns)\n",
        "addresses = df['address'].tolist()\n",
        "\n",
        "print(len(addresses))\n",
        "# print(addresses)"
      ]
    },
    {
      "cell_type": "code",
      "source": [
        "import re\n",
        "\n",
        "error_list=[]\n",
        "\n",
        "def process_data(address):\n",
        "    if not isinstance(address, str):\n",
        "      return ['', '', '', '', '']\n",
        "\n",
        "    house_number_re = re.compile(r'^[\\d-]+')\n",
        "    compass_point_re = re.compile(r'(?<= )([NESW]|North|East|South|West)(?= )', re.IGNORECASE)\n",
        "    street_name_re = re.compile(r'(?:(?<=[NESW] )|(?<= ))[\\w\\s-]+(?= (St|Street|Rd|Road|Ave|Avenue|Blvd|Boulevard|AV|PL|TERR|BR|NA|Broadway|NONE|DR|CT|PKWY|DRIVE|PARKWAY))', re.IGNORECASE)\n",
        "    artery_re = re.compile(r'(?<= )(St|Street|Rd|Road|Ave|Avenue|Blvd|Boulevard|Av|Pl|TERR|BR|DR|CT|PKWY|DRIVE|Broadway|PARKWAY)(?= |$)', re.IGNORECASE)\n",
        "    zip_code_re = re.compile(r'\\b\\d{5}\\b')\n",
        "\n",
        "    compass_dict = {\n",
        "    's': 'South',\n",
        "    'n': 'North',\n",
        "    'e': 'East',\n",
        "    'w': 'West',\n",
        "    }\n",
        "\n",
        "    artery_dict = {\n",
        "    'st': 'Street',\n",
        "    'av': 'Avenue',\n",
        "    'ave': 'Avenue',\n",
        "    'rd': 'Road',\n",
        "    'blvd':'Boulevard',\n",
        "    'pl':'Plaza',\n",
        "    'terr':'Terrance',\n",
        "    'br':'Bridge',\n",
        "    'dr':'Drive',\n",
        "    'ct':'Court'\n",
        "    }\n",
        "\n",
        "\n",
        "    address = re.sub(r'United States', '', address, flags=re.IGNORECASE)\n",
        "    address = re.sub(r'New York', '', address, 1, flags=re.IGNORECASE) if address.lower().count('new york') > 1 else address\n",
        "\n",
        "    house_number = house_number_re.search(address)\n",
        "    house_number = house_number.group() if house_number else ''\n",
        "\n",
        "    compass_point = compass_point_re.search(address)\n",
        "    if compass_point:\n",
        "\n",
        "      compass_point = compass_point.group()\n",
        "      oc = compass_point\n",
        "      compass_point = compass_dict.get(compass_point.lower(),compass_point)\n",
        "    else:\n",
        "      compass_point= ''\n",
        "\n",
        "    street_name = street_name_re.search(address)\n",
        "    if street_name:\n",
        "        street_name = street_name.group().strip()\n",
        "        # If the street name starts with a compass point, remove it\n",
        "        if compass_point and street_name.startswith(oc):\n",
        "            street_name = street_name[len(oc)+1:].strip() # +1 added to handle the space after compass point.\n",
        "        else:\n",
        "            street_name=street_name\n",
        "    else:\n",
        "        street_name = ''\n",
        "\n",
        "\n",
        "    artery = artery_re.search(address)\n",
        "    if artery:\n",
        "        artery = artery.group()\n",
        "        artery = artery_dict.get(artery.lower(), artery)\n",
        "    else:\n",
        "        artery = ''\n",
        "\n",
        "\n",
        "    zip_code = zip_code_re.search(address)\n",
        "    zip_code = zip_code.group() if zip_code else ''\n",
        "\n",
        "    return [house_number, compass_point, street_name, artery, zip_code]\n",
        "\n",
        "\n",
        "formatted_addresses = [process_data(address) for address in addresses]\n",
        "\n",
        "\n",
        "\n"
      ],
      "metadata": {
        "id": "aFn3xPMqwAvH"
      },
      "execution_count": null,
      "outputs": []
    },
    {
      "cell_type": "code",
      "source": [
        "df_new = pd.DataFrame(formatted_addresses, columns=['HouseNumber', 'CompassPoint', 'StreetName', 'Artery', 'ZipCode'])\n",
        "\n",
        "\n",
        "# concatenate the original DataFrame with the new one\n",
        "df_final = pd.concat([df,df_new], axis=1)\n",
        "\n",
        "\n",
        "# write the final DataFrame to a new Excel file\n",
        "df_final.to_excel('splitaddress.xlsx', index=False)"
      ],
      "metadata": {
        "id": "jx_HY_j7wDKP"
      },
      "execution_count": null,
      "outputs": []
    }
  ]
}