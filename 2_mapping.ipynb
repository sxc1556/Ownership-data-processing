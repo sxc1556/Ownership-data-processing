{
  "cells": [
    {
      "cell_type": "code",
      "execution_count": null,
      "metadata": {
        "colab": {
          "base_uri": "https://localhost:8080/"
        },
        "id": "x904g1UDxD28",
        "outputId": "2b6654ea-0665-42ae-9954-b45cd701aa07"
      },
      "outputs": [
        {
          "output_type": "stream",
          "name": "stdout",
          "text": [
            "completed first 2000\n",
            "completed first 4000\n",
            "completed first 6000\n",
            "completed first 8000\n",
            "completed first 10000\n",
            "completed first 12000\n",
            "completed first 14000\n",
            "completed first 16000\n",
            "completed first 18000\n",
            "completed first 20000\n",
            "completed first 22000\n",
            "completed first 24000\n",
            "completed first 26000\n",
            "completed first 28000\n",
            "completed first 30000\n"
          ]
        }
      ],
      "source": [
        "import pandas as pd\n",
        "import requests\n",
        "import urllib.parse\n",
        "\n",
        "def uniquephone(res,curr):\n",
        "  if curr not in res:\n",
        "    res.append(curr)\n",
        "  return res\n",
        "\n",
        "# Load your Excel file\n",
        "df = pd.read_excel('splitaddress.xlsx')\n",
        "\n",
        "# Add a list to store the phone numbers\n",
        "df['owner_sphone'] = pd.Series(dtype='str')\n",
        "columns_to_add = [ 'gis_latitude', 'gis_longitude', 'borough', '90building_type', 'bin__', 'owner_s_first_name',\n",
        "                  'owner_s_last_name', 'owner_s_business_name', 'owner_s_house_number', 'zip']\n",
        "\n",
        "for column in columns_to_add:\n",
        "    df[column] = pd.Series(dtype='str')\n",
        "\n",
        "\n",
        "batch=0\n",
        "# For each 5000-row chunk in the dataframe\n",
        "#859069\n",
        "for i in range(496201, 526200, 2000):\n",
        "    chunk = df.iloc[i:i+2000]\n",
        "\n",
        "    # For each row in the chunk\n",
        "    for index, row in chunk.iterrows():\n",
        "        # Construct the URL\n",
        "        # Combine the StreetName and Artery and encode it\n",
        "        street_name = urllib.parse.quote(f\"{row['StreetName']} {row['Artery']}\").upper()\n",
        "\n",
        "        url = f\"https://data.cityofnewyork.us/resource/ic3t-wcy2.json?$$app_token=8V79xq1t4Z8L9mmJuIaEAfcrr&street_name={street_name}&house__={row['HouseNumber']}\"\n",
        "\n",
        "        # Send the request\n",
        "        response = requests.get(url)\n",
        "\n",
        "        # Load the response into a dataframe\n",
        "        json_df = pd.DataFrame(response.json())\n",
        "\n",
        "        # If there are phone numbers\n",
        "        for column in columns_to_add:\n",
        "            if column in json_df.columns:\n",
        "                df.at[index, column] = json_df[column].values[0]\n",
        "            else:\n",
        "                df.at[index, column] = ''\n",
        "        resphone=[]\n",
        "        if not json_df.empty and 'owner_sphone__' in json_df.columns:\n",
        "          for x in json_df['owner_sphone__']:\n",
        "              op = ','. join(str(x) for x in uniquephone(resphone,x))\n",
        "          df.at[index, 'owner_sphone'] = op\n",
        "\n",
        "    batch+=1\n",
        "    print('completed first',batch*2000)\n",
        "\n",
        "    # Write back to Excel\n",
        "    df.to_excel('splitaddress 496201 to 526200.xlsx', index=False)\n"
      ]
    }
  ],
  "metadata": {
    "colab": {
      "provenance": []
    },
    "kernelspec": {
      "display_name": "Python 3",
      "name": "python3"
    },
    "language_info": {
      "name": "python"
    }
  },
  "nbformat": 4,
  "nbformat_minor": 0
}